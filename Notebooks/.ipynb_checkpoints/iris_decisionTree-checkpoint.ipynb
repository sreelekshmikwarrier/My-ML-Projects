{
 "cells": [
  {
   "cell_type": "code",
   "execution_count": 1,
   "id": "5bcab352",
   "metadata": {},
   "outputs": [
    {
     "name": "stdout",
     "output_type": "stream",
     "text": [
      "0.9\n"
     ]
    }
   ],
   "source": [
    "from sklearn import datasets\n",
    "from sklearn.tree import DecisionTreeClassifier\n",
    "from sklearn.model_selection import train_test_split\n",
    "from sklearn.metrics import accuracy_score\n",
    "\n",
    "X, y = datasets.load_iris(return_X_y=True)\n",
    "iris_data = datasets.load_iris()\n",
    "# print(iris_data)\n",
    "xtrain,xtest,ytrain,ytest=train_test_split(X,y,test_size=0.2)\n",
    "\n",
    "model=DecisionTreeClassifier()\n",
    "model.fit(xtrain,ytrain)\n",
    "predictions=model.predict(xtest)\n",
    "s=accuracy_score(ytest,predictions)\n",
    "print(s)"
   ]
  },
  {
   "cell_type": "code",
   "execution_count": null,
   "id": "d6792e39",
   "metadata": {},
   "outputs": [],
   "source": []
  }
 ],
 "metadata": {
  "kernelspec": {
   "display_name": "Python 3 (ipykernel)",
   "language": "python",
   "name": "python3"
  },
  "language_info": {
   "codemirror_mode": {
    "name": "ipython",
    "version": 3
   },
   "file_extension": ".py",
   "mimetype": "text/x-python",
   "name": "python",
   "nbconvert_exporter": "python",
   "pygments_lexer": "ipython3",
   "version": "3.9.12"
  }
 },
 "nbformat": 4,
 "nbformat_minor": 5
}
